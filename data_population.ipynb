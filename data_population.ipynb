{
 "cells": [
  {
   "cell_type": "code",
   "execution_count": 1,
   "metadata": {},
   "outputs": [],
   "source": [
    "from ista import FlatFileDatabaseParser\n",
    "from ista.util import print_onto_stats\n",
    "import owlready2 as owl"
   ]
  },
  {
   "cell_type": "code",
   "execution_count": 2,
   "metadata": {},
   "outputs": [],
   "source": [
    "onto = owl.get_ontology(\"file://C:\\\\Users\\\\musker\\\\Desktop\\\\CPO\\\\datasets\\\\cp_dataset\\\\CPO.rdf\").load()\n",
    "data_dir = \"C:\\\\Users\\\\musker\\\\Desktop\\\\CPO\\\\datasets\""
   ]
  },
  {
   "cell_type": "code",
   "execution_count": 13,
   "metadata": {},
   "outputs": [],
   "source": [
    "cp = FlatFileDatabaseParser(\"cp_dataset\", onto, data_dir)\n",
    "omim = FlatFileDatabaseParser(\"omim_dataset\", onto, data_dir)"
   ]
  },
  {
   "cell_type": "code",
   "execution_count": 8,
   "metadata": {},
   "outputs": [
    {
     "name": "stdout",
     "output_type": "stream",
     "text": [
      "\n",
      "*******************\n",
      "ONTOLOGY STATISTICS\n",
      "*******************\n",
      "\n",
      "Individual counts:\n",
      "Symptom: 47\n",
      "Disease: 2439\n",
      "BehavioralTreatment: 11\n",
      "NutritionalTreatment: 10\n",
      "PhysicalTreatment: 10\n",
      "StimulationalSurgery: 3\n",
      "SurgicalTreatment: 16\n",
      "TransplantationalSurgery: 4\n",
      "\n",
      "Relationship counts:\n"
     ]
    }
   ],
   "source": [
    "print_onto_stats(onto)"
   ]
  },
  {
   "cell_type": "code",
   "execution_count": 5,
   "metadata": {},
   "outputs": [
    {
     "name": "stdout",
     "output_type": "stream",
     "text": [
      "PARSING NODE TYPE: StimulationalSurgery\n",
      "FROM SOURCE DATABASE: cp_dataset\n"
     ]
    },
    {
     "name": "stderr",
     "output_type": "stream",
     "text": [
      "54it [00:00, 52906.43it/s]\n"
     ]
    }
   ],
   "source": [
    "# NODE MAPPINGS\n",
    "\n",
    "cp.parse_node_type(\n",
    "    node_type=\"StimulationalSurgery\",\n",
    "    source_filename=\"nodes.csv\",\n",
    "    fmt=\"csv\",\n",
    "    parse_config={\n",
    "        \"iri_column_name\": \"id\",\n",
    "        \"headers\": True,\n",
    "        \"filter_column\": \"kind\",\n",
    "        \"filter_value\": \"stimulation\",\n",
    "        \"data_property_map\": {\n",
    "            \"id\": onto.treatmentId,\n",
    "            \"name\": onto.treatmentName\n",
    "        },\n",
    "    },\n",
    "    merge=False,\n",
    "    skip=False\n",
    ")"
   ]
  },
  {
   "cell_type": "code",
   "execution_count": 6,
   "metadata": {},
   "outputs": [
    {
     "name": "stdout",
     "output_type": "stream",
     "text": [
      "PARSING NODE TYPE: TransplantationalSurgery\n",
      "FROM SOURCE DATABASE: cp_dataset\n"
     ]
    },
    {
     "name": "stderr",
     "output_type": "stream",
     "text": [
      "54it [00:00, 34695.53it/s]\n"
     ]
    },
    {
     "name": "stdout",
     "output_type": "stream",
     "text": [
      "PARSING NODE TYPE: SurgicalTreatment\n",
      "FROM SOURCE DATABASE: cp_dataset\n"
     ]
    },
    {
     "name": "stderr",
     "output_type": "stream",
     "text": [
      "54it [00:00, 26982.66it/s]\n"
     ]
    },
    {
     "name": "stdout",
     "output_type": "stream",
     "text": [
      "PARSING NODE TYPE: NutritionalTreatment\n",
      "FROM SOURCE DATABASE: cp_dataset\n"
     ]
    },
    {
     "name": "stderr",
     "output_type": "stream",
     "text": [
      "54it [00:00, 27968.93it/s]\n"
     ]
    },
    {
     "name": "stdout",
     "output_type": "stream",
     "text": [
      "PARSING NODE TYPE: BehavioralTreatment\n",
      "FROM SOURCE DATABASE: cp_dataset\n"
     ]
    },
    {
     "name": "stderr",
     "output_type": "stream",
     "text": [
      "54it [00:00, 11073.26it/s]\n"
     ]
    },
    {
     "name": "stdout",
     "output_type": "stream",
     "text": [
      "PARSING NODE TYPE: PhysicalTreatment\n",
      "FROM SOURCE DATABASE: cp_dataset\n"
     ]
    },
    {
     "name": "stderr",
     "output_type": "stream",
     "text": [
      "54it [00:00, 19200.78it/s]\n"
     ]
    }
   ],
   "source": [
    "cp.parse_node_type(\n",
    "    node_type=\"TransplantationalSurgery\",\n",
    "    source_filename=\"nodes.csv\",\n",
    "    fmt=\"csv\",\n",
    "    parse_config={\n",
    "        \"iri_column_name\": \"id\",\n",
    "        \"headers\": True,\n",
    "        \"filter_column\": \"kind\",\n",
    "        \"filter_value\": \"transplantation\",\n",
    "        \"data_property_map\": {\n",
    "            \"id\": onto.treatmentId,\n",
    "            \"name\": onto.treatmentName\n",
    "        },\n",
    "    },\n",
    "    merge=False,\n",
    "    skip=False\n",
    ")\n",
    "\n",
    "cp.parse_node_type(\n",
    "    node_type=\"SurgicalTreatment\",\n",
    "    source_filename=\"nodes.csv\",\n",
    "    fmt=\"csv\",\n",
    "    parse_config={\n",
    "        \"iri_column_name\": \"id\",\n",
    "        \"headers\": True,\n",
    "        \"filter_column\": \"kind\",\n",
    "        \"filter_value\": \"surgical\",\n",
    "        \"data_property_map\": {\n",
    "            \"id\": onto.treatmentId,\n",
    "            \"name\": onto.treatmentName\n",
    "        },\n",
    "    },\n",
    "    merge=False,\n",
    "    skip=False\n",
    ")\n",
    "\n",
    "cp.parse_node_type(\n",
    "    node_type=\"NutritionalTreatment\",\n",
    "    source_filename=\"nodes.csv\",\n",
    "    fmt=\"csv\",\n",
    "    parse_config={\n",
    "        \"iri_column_name\": \"id\",\n",
    "        \"headers\": True,\n",
    "        \"filter_column\": \"kind\",\n",
    "        \"filter_value\": \"nutritional\",\n",
    "        \"data_property_map\": {\n",
    "            \"id\": onto.treatmentId,\n",
    "            \"name\": onto.treatmentName\n",
    "        },\n",
    "    },\n",
    "    merge=False,\n",
    "    skip=False\n",
    ")\n",
    "\n",
    "cp.parse_node_type(\n",
    "    node_type=\"BehavioralTreatment\",\n",
    "    source_filename=\"nodes.csv\",\n",
    "    fmt=\"csv\",\n",
    "    parse_config={\n",
    "        \"iri_column_name\": \"id\",\n",
    "        \"headers\": True,\n",
    "        \"filter_column\": \"kind\",\n",
    "        \"filter_value\": \"behavioral\",\n",
    "        \"data_property_map\": {\n",
    "            \"id\": onto.treatmentId,\n",
    "            \"name\": onto.treatmentName\n",
    "        },\n",
    "    },\n",
    "    merge=False,\n",
    "    skip=False\n",
    ")\n",
    "\n",
    "cp.parse_node_type(\n",
    "    node_type=\"PhysicalTreatment\",\n",
    "    source_filename=\"nodes.csv\",\n",
    "    fmt=\"csv\",\n",
    "    parse_config={\n",
    "        \"iri_column_name\": \"id\",\n",
    "        \"headers\": True,\n",
    "        \"filter_column\": \"kind\",\n",
    "        \"filter_value\": \"physical\",\n",
    "        \"data_property_map\": {\n",
    "            \"id\": onto.treatmentId,\n",
    "            \"name\": onto.treatmentName\n",
    "        },\n",
    "    },\n",
    "    merge=False,\n",
    "    skip=False\n",
    ")"
   ]
  },
  {
   "cell_type": "code",
   "execution_count": 7,
   "metadata": {},
   "outputs": [
    {
     "name": "stdout",
     "output_type": "stream",
     "text": [
      "PARSING NODE TYPE: Disease\n",
      "FROM SOURCE DATABASE: omim_dataset\n"
     ]
    },
    {
     "name": "stderr",
     "output_type": "stream",
     "text": [
      "2439it [00:00, 14186.69it/s]\n"
     ]
    },
    {
     "name": "stdout",
     "output_type": "stream",
     "text": [
      "PARSING NODE TYPE: Symptom\n",
      "FROM SOURCE DATABASE: omim_dataset\n"
     ]
    },
    {
     "name": "stderr",
     "output_type": "stream",
     "text": [
      "47it [00:00, 7971.38it/s]\n"
     ]
    }
   ],
   "source": [
    "# NODE MAPPINGS\n",
    "\n",
    "omim.parse_node_type(\n",
    "    node_type=\"Disease\",\n",
    "    source_filename=\"disease_nodes.csv\",\n",
    "    fmt=\"csv\",\n",
    "    parse_config={\n",
    "        \"iri_column_name\": \"id\",\n",
    "        \"headers\": True,\n",
    "        # \"filter_column\": \"kind\",\n",
    "        # \"filter_value\": \"stimulation\",\n",
    "        \"data_property_map\": {\n",
    "            \"id\": onto.diseaseId,\n",
    "            \"name\": onto.diseaseName\n",
    "        },\n",
    "    },\n",
    "    merge=False,\n",
    "    skip=False\n",
    ")\n",
    "\n",
    "omim.parse_node_type(\n",
    "    node_type=\"Symptom\",\n",
    "    source_filename=\"symptom_nodes.csv\",\n",
    "    fmt=\"csv\",\n",
    "    parse_config={\n",
    "        \"iri_column_name\": \"id\",\n",
    "        \"headers\": True,\n",
    "        # \"filter_column\": \"kind\",\n",
    "        # \"filter_value\": \"stimulation\",\n",
    "        \"data_property_map\": {\n",
    "            \"id\": onto.symptomId,\n",
    "            \"name\": onto.symptomName\n",
    "        },\n",
    "    },\n",
    "    merge=False,\n",
    "    skip=False\n",
    ")"
   ]
  },
  {
   "cell_type": "code",
   "execution_count": 9,
   "metadata": {},
   "outputs": [
    {
     "name": "stdout",
     "output_type": "stream",
     "text": [
      "PARSING RELATIONSHIP TYPE: C:\\Users\\musker\\Desktop\\CPO\\datasets\\cp_dataset\\CPO.treatmentHasTherapeuticEffect\n",
      "FROM SOURCE DATABASE: cp_dataset\n"
     ]
    },
    {
     "name": "stderr",
     "output_type": "stream",
     "text": [
      "73it [00:00, 7703.72it/s]\n"
     ]
    }
   ],
   "source": [
    "# Relationship mappings\n",
    "\n",
    "cp.parse_relationship_type(\n",
    "    relationship_type=onto.treatmentHasTherapeuticEffect,\n",
    "    source_filename=\"edges.csv\",\n",
    "    fmt=\"csv\",\n",
    "    parse_config={\n",
    "        \"subject_node_type\": onto.Treatment,\n",
    "        \"subject_column_name\": \"source\",\n",
    "        \"subject_match_property\": onto.treatmentId,\n",
    "        \"object_node_type\": onto.Symptom,\n",
    "        \"object_column_name\": \"target\",\n",
    "        \"object_match_property\": onto.symptomId,\n",
    "        \"filter_column\": \"metaedge\",\n",
    "        \"filter_value\": \"therapeutic\",\n",
    "        \"headers\": True,\n",
    "        # \"data_transforms\": {\n",
    "        #     \"source\": lambda x: x.split(\"::\")[-1],\n",
    "        #     \"target\": lambda x: x.split(\":\")[-1] # Note: Because hetionet prefixes DOIDs with 'DOID:'\n",
    "        # },\n",
    "    },\n",
    "    merge=False,\n",
    "    skip=False\n",
    ")"
   ]
  },
  {
   "cell_type": "code",
   "execution_count": 11,
   "metadata": {},
   "outputs": [
    {
     "name": "stdout",
     "output_type": "stream",
     "text": [
      "PARSING RELATIONSHIP TYPE: C:\\Users\\musker\\Desktop\\CPO\\datasets\\cp_dataset\\CPO.treatmentHasAdverseEffect\n",
      "FROM SOURCE DATABASE: cp_dataset\n"
     ]
    },
    {
     "name": "stderr",
     "output_type": "stream",
     "text": [
      "73it [00:00, 20425.90it/s]\n"
     ]
    },
    {
     "ename": "AttributeError",
     "evalue": "'FlatFileDatabaseParser' object has no attribute 'omim'",
     "output_type": "error",
     "traceback": [
      "\u001b[1;31m---------------------------------------------------------------------------\u001b[0m",
      "\u001b[1;31mAttributeError\u001b[0m                            Traceback (most recent call last)",
      "Cell \u001b[1;32mIn[11], line 24\u001b[0m\n\u001b[0;32m      1\u001b[0m cp\u001b[38;5;241m.\u001b[39mparse_relationship_type(\n\u001b[0;32m      2\u001b[0m     relationship_type\u001b[38;5;241m=\u001b[39monto\u001b[38;5;241m.\u001b[39mtreatmentHasAdverseEffect,\n\u001b[0;32m      3\u001b[0m     source_filename\u001b[38;5;241m=\u001b[39m\u001b[38;5;124m\"\u001b[39m\u001b[38;5;124medges.csv\u001b[39m\u001b[38;5;124m\"\u001b[39m,\n\u001b[1;32m   (...)\u001b[0m\n\u001b[0;32m     21\u001b[0m     skip\u001b[38;5;241m=\u001b[39m\u001b[38;5;28;01mFalse\u001b[39;00m\n\u001b[0;32m     22\u001b[0m )\n\u001b[1;32m---> 24\u001b[0m \u001b[43mcp\u001b[49m\u001b[38;5;241;43m.\u001b[39;49m\u001b[43momim\u001b[49m(\n\u001b[0;32m     25\u001b[0m     relationship_type\u001b[38;5;241m=\u001b[39monto\u001b[38;5;241m.\u001b[39msymptomManifestationOfDisease,\n\u001b[0;32m     26\u001b[0m     source_filename\u001b[38;5;241m=\u001b[39m\u001b[38;5;124m\"\u001b[39m\u001b[38;5;124msymptom_manifestation_edges.csv\u001b[39m\u001b[38;5;124m\"\u001b[39m,\n\u001b[0;32m     27\u001b[0m     fmt\u001b[38;5;241m=\u001b[39m\u001b[38;5;124m\"\u001b[39m\u001b[38;5;124mcsv\u001b[39m\u001b[38;5;124m\"\u001b[39m,\n\u001b[0;32m     28\u001b[0m     parse_config\u001b[38;5;241m=\u001b[39m{\n\u001b[0;32m     29\u001b[0m         \u001b[38;5;124m\"\u001b[39m\u001b[38;5;124msubject_node_type\u001b[39m\u001b[38;5;124m\"\u001b[39m: onto\u001b[38;5;241m.\u001b[39mSymptom,\n\u001b[0;32m     30\u001b[0m         \u001b[38;5;124m\"\u001b[39m\u001b[38;5;124msubject_column_name\u001b[39m\u001b[38;5;124m\"\u001b[39m: \u001b[38;5;124m\"\u001b[39m\u001b[38;5;124msubject\u001b[39m\u001b[38;5;124m\"\u001b[39m,\n\u001b[0;32m     31\u001b[0m         \u001b[38;5;124m\"\u001b[39m\u001b[38;5;124msubject_match_property\u001b[39m\u001b[38;5;124m\"\u001b[39m: onto\u001b[38;5;241m.\u001b[39msymptomId,\n\u001b[0;32m     32\u001b[0m         \u001b[38;5;124m\"\u001b[39m\u001b[38;5;124mobject_node_type\u001b[39m\u001b[38;5;124m\"\u001b[39m: onto\u001b[38;5;241m.\u001b[39mDisease,\n\u001b[0;32m     33\u001b[0m         \u001b[38;5;124m\"\u001b[39m\u001b[38;5;124mobject_column_name\u001b[39m\u001b[38;5;124m\"\u001b[39m: \u001b[38;5;124m\"\u001b[39m\u001b[38;5;124mobject\u001b[39m\u001b[38;5;124m\"\u001b[39m,\n\u001b[0;32m     34\u001b[0m         \u001b[38;5;124m\"\u001b[39m\u001b[38;5;124mobject_match_property\u001b[39m\u001b[38;5;124m\"\u001b[39m: onto\u001b[38;5;241m.\u001b[39mdiseaseId,\n\u001b[0;32m     35\u001b[0m         \u001b[38;5;124m\"\u001b[39m\u001b[38;5;124mfilter_column\u001b[39m\u001b[38;5;124m\"\u001b[39m: \u001b[38;5;124m\"\u001b[39m\u001b[38;5;124mpredicate\u001b[39m\u001b[38;5;124m\"\u001b[39m,\n\u001b[0;32m     36\u001b[0m         \u001b[38;5;124m\"\u001b[39m\u001b[38;5;124mfilter_value\u001b[39m\u001b[38;5;124m\"\u001b[39m: \u001b[38;5;124m\"\u001b[39m\u001b[38;5;124mmanifestation_of\u001b[39m\u001b[38;5;124m\"\u001b[39m,\n\u001b[0;32m     37\u001b[0m         \u001b[38;5;124m\"\u001b[39m\u001b[38;5;124mheaders\u001b[39m\u001b[38;5;124m\"\u001b[39m: \u001b[38;5;28;01mTrue\u001b[39;00m,\n\u001b[0;32m     38\u001b[0m         \u001b[38;5;66;03m# \"data_transforms\": {\u001b[39;00m\n\u001b[0;32m     39\u001b[0m         \u001b[38;5;66;03m#     \"source\": lambda x: x.split(\"::\")[-1],\u001b[39;00m\n\u001b[0;32m     40\u001b[0m         \u001b[38;5;66;03m#     \"target\": lambda x: x.split(\":\")[-1] # Note: Because hetionet prefixes DOIDs with 'DOID:'\u001b[39;00m\n\u001b[0;32m     41\u001b[0m         \u001b[38;5;66;03m# },\u001b[39;00m\n\u001b[0;32m     42\u001b[0m     },\n\u001b[0;32m     43\u001b[0m     merge\u001b[38;5;241m=\u001b[39m\u001b[38;5;28;01mFalse\u001b[39;00m,\n\u001b[0;32m     44\u001b[0m     skip\u001b[38;5;241m=\u001b[39m\u001b[38;5;28;01mFalse\u001b[39;00m\n\u001b[0;32m     45\u001b[0m )\n",
      "\u001b[1;31mAttributeError\u001b[0m: 'FlatFileDatabaseParser' object has no attribute 'omim'"
     ]
    }
   ],
   "source": [
    "cp.parse_relationship_type(\n",
    "    relationship_type=onto.treatmentHasAdverseEffect,\n",
    "    source_filename=\"edges.csv\",\n",
    "    fmt=\"csv\",\n",
    "    parse_config={\n",
    "        \"subject_node_type\": onto.Treatment,\n",
    "        \"subject_column_name\": \"source\",\n",
    "        \"subject_match_property\": onto.treatmentId,\n",
    "        \"object_node_type\": onto.Symptom,\n",
    "        \"object_column_name\": \"target\",\n",
    "        \"object_match_property\": onto.symptomId,\n",
    "        \"filter_column\": \"metaedge\",\n",
    "        \"filter_value\": \"adverse\",\n",
    "        \"headers\": True,\n",
    "        # \"data_transforms\": {\n",
    "        #     \"source\": lambda x: x.split(\"::\")[-1],\n",
    "        #     \"target\": lambda x: x.split(\":\")[-1] # Note: Because hetionet prefixes DOIDs with 'DOID:'\n",
    "        # },\n",
    "    },\n",
    "    merge=False,\n",
    "    skip=False\n",
    ")"
   ]
  },
  {
   "cell_type": "code",
   "execution_count": 14,
   "metadata": {},
   "outputs": [
    {
     "name": "stdout",
     "output_type": "stream",
     "text": [
      "PARSING RELATIONSHIP TYPE: C:\\Users\\musker\\Desktop\\CPO\\datasets\\cp_dataset\\CPO.symptomManifestationOfDisease\n",
      "FROM SOURCE DATABASE: omim_dataset\n"
     ]
    },
    {
     "name": "stderr",
     "output_type": "stream",
     "text": [
      "4320it [00:00, 6950.77it/s]\n"
     ]
    }
   ],
   "source": [
    "omim.parse_relationship_type(\n",
    "    relationship_type=onto.symptomManifestationOfDisease,\n",
    "    source_filename=\"symptom_manifestation_edges.csv\",\n",
    "    fmt=\"csv\",\n",
    "    parse_config={\n",
    "        \"subject_node_type\": onto.Symptom,\n",
    "        \"subject_column_name\": \"subject\",\n",
    "        \"subject_match_property\": onto.symptomId,\n",
    "        \"object_node_type\": onto.Disease,\n",
    "        \"object_column_name\": \"object\",\n",
    "        \"object_match_property\": onto.diseaseId,\n",
    "        \"filter_column\": \"predicate\",\n",
    "        \"filter_value\": \"manifestation_of\",\n",
    "        \"headers\": True,\n",
    "        # \"data_transforms\": {\n",
    "        #     \"source\": lambda x: x.split(\"::\")[-1],\n",
    "        #     \"target\": lambda x: x.split(\":\")[-1] # Note: Because hetionet prefixes DOIDs with 'DOID:'\n",
    "        # },\n",
    "    },\n",
    "    merge=False,\n",
    "    skip=False\n",
    ")"
   ]
  },
  {
   "cell_type": "code",
   "execution_count": 15,
   "metadata": {},
   "outputs": [
    {
     "name": "stdout",
     "output_type": "stream",
     "text": [
      "\n",
      "*******************\n",
      "ONTOLOGY STATISTICS\n",
      "*******************\n",
      "\n",
      "Individual counts:\n",
      "Symptom: 47\n",
      "Disease: 2439\n",
      "BehavioralTreatment: 11\n",
      "NutritionalTreatment: 10\n",
      "PhysicalTreatment: 10\n",
      "StimulationalSurgery: 3\n",
      "SurgicalTreatment: 16\n",
      "TransplantationalSurgery: 4\n",
      "\n",
      "Relationship counts:\n",
      "symptomManifestationOfDisease: 4320\n",
      "treatmentHasAdverseEffect: 19\n",
      "treatmentHasTherapeuticEffect: 52\n"
     ]
    }
   ],
   "source": [
    "print_onto_stats(onto)"
   ]
  },
  {
   "cell_type": "code",
   "execution_count": 16,
   "metadata": {},
   "outputs": [],
   "source": [
    "with open(\"cpo_populated.rdf\", \"wb\") as f:\n",
    "    onto.save(file=f, format=\"rdfxml\")"
   ]
  }
 ],
 "metadata": {
  "kernelspec": {
   "display_name": "venv",
   "language": "python",
   "name": "python3"
  },
  "language_info": {
   "codemirror_mode": {
    "name": "ipython",
    "version": 3
   },
   "file_extension": ".py",
   "mimetype": "text/x-python",
   "name": "python",
   "nbconvert_exporter": "python",
   "pygments_lexer": "ipython3",
   "version": "3.11.9"
  }
 },
 "nbformat": 4,
 "nbformat_minor": 2
}
