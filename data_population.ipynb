{
 "cells": [
  {
   "cell_type": "code",
   "execution_count": 1,
   "metadata": {},
   "outputs": [],
   "source": [
    "from ista import FlatFileDatabaseParser\n",
    "from ista.util import print_onto_stats\n",
    "import owlready2 as owl"
   ]
  },
  {
   "cell_type": "code",
   "execution_count": 2,
   "metadata": {},
   "outputs": [],
   "source": [
    "onto = owl.get_ontology(\"file://C:\\\\Users\\\\musker\\\\Desktop\\\\CPO\\\\datasets\\\\cp_dataset\\\\CPO.rdf\").load()\n",
    "data_dir = \"C:\\\\Users\\\\musker\\\\Desktop\\\\CPO\\\\datasets\""
   ]
  },
  {
   "cell_type": "code",
   "execution_count": 3,
   "metadata": {},
   "outputs": [],
   "source": [
    "cp = FlatFileDatabaseParser(\"cp_dataset\", onto, data_dir)\n",
    "omim = FlatFileDatabaseParser(\"omim_dataset\", onto, data_dir)"
   ]
  },
  {
   "cell_type": "code",
   "execution_count": 11,
   "metadata": {},
   "outputs": [
    {
     "name": "stdout",
     "output_type": "stream",
     "text": [
      "\n",
      "*******************\n",
      "ONTOLOGY STATISTICS\n",
      "*******************\n",
      "\n",
      "Individual counts:\n",
      "Symptom: 47\n",
      "Disease: 2439\n",
      "BehavioralTreatment: 11\n",
      "NutritionalTreatment: 10\n",
      "PhysicalTreatment: 10\n",
      "StimulationalSurgery: 3\n",
      "SurgicalTreatment: 16\n",
      "TransplantationalSurgery: 4\n",
      "\n",
      "Relationship counts:\n"
     ]
    }
   ],
   "source": [
    "print_onto_stats(onto)"
   ]
  },
  {
   "cell_type": "code",
   "execution_count": 5,
   "metadata": {},
   "outputs": [
    {
     "name": "stdout",
     "output_type": "stream",
     "text": [
      "PARSING NODE TYPE: StimulationalSurgery\n",
      "FROM SOURCE DATABASE: cp_dataset\n"
     ]
    },
    {
     "name": "stderr",
     "output_type": "stream",
     "text": [
      "54it [00:00, 49130.68it/s]\n"
     ]
    }
   ],
   "source": [
    "# NODE MAPPINGS\n",
    "\n",
    "cp.parse_node_type(\n",
    "    node_type=\"StimulationalSurgery\",\n",
    "    source_filename=\"nodes.csv\",\n",
    "    fmt=\"csv\",\n",
    "    parse_config={\n",
    "        \"iri_column_name\": \"id\",\n",
    "        \"headers\": True,\n",
    "        \"filter_column\": \"kind\",\n",
    "        \"filter_value\": \"stimulation\",\n",
    "        \"data_property_map\": {\n",
    "            \"id\": onto.treatmentId,\n",
    "            \"name\": onto.treatmentName\n",
    "        },\n",
    "    },\n",
    "    merge=False,\n",
    "    skip=False\n",
    ")"
   ]
  },
  {
   "cell_type": "code",
   "execution_count": 8,
   "metadata": {},
   "outputs": [
    {
     "name": "stdout",
     "output_type": "stream",
     "text": [
      "PARSING NODE TYPE: TransplantationalSurgery\n",
      "FROM SOURCE DATABASE: cp_dataset\n"
     ]
    },
    {
     "name": "stderr",
     "output_type": "stream",
     "text": [
      "54it [00:00, 15449.69it/s]\n"
     ]
    },
    {
     "name": "stdout",
     "output_type": "stream",
     "text": [
      "PARSING NODE TYPE: SurgicalTreatment\n",
      "FROM SOURCE DATABASE: cp_dataset\n"
     ]
    },
    {
     "name": "stderr",
     "output_type": "stream",
     "text": [
      "54it [00:00, 42969.53it/s]\n"
     ]
    },
    {
     "name": "stdout",
     "output_type": "stream",
     "text": [
      "PARSING NODE TYPE: NutritionalTreatment\n",
      "FROM SOURCE DATABASE: cp_dataset\n"
     ]
    },
    {
     "name": "stderr",
     "output_type": "stream",
     "text": [
      "54it [00:00, 53304.88it/s]\n"
     ]
    },
    {
     "name": "stdout",
     "output_type": "stream",
     "text": [
      "PARSING NODE TYPE: BehavioralTreatment\n",
      "FROM SOURCE DATABASE: cp_dataset\n"
     ]
    },
    {
     "name": "stderr",
     "output_type": "stream",
     "text": [
      "54it [00:00, 17579.36it/s]\n"
     ]
    },
    {
     "name": "stdout",
     "output_type": "stream",
     "text": [
      "PARSING NODE TYPE: PhysicalTreatment\n",
      "FROM SOURCE DATABASE: cp_dataset\n"
     ]
    },
    {
     "name": "stderr",
     "output_type": "stream",
     "text": [
      "54it [00:00, ?it/s]\n"
     ]
    }
   ],
   "source": [
    "cp.parse_node_type(\n",
    "    node_type=\"TransplantationalSurgery\",\n",
    "    source_filename=\"nodes.csv\",\n",
    "    fmt=\"csv\",\n",
    "    parse_config={\n",
    "        \"iri_column_name\": \"id\",\n",
    "        \"headers\": True,\n",
    "        \"filter_column\": \"kind\",\n",
    "        \"filter_value\": \"transplantation\",\n",
    "        \"data_property_map\": {\n",
    "            \"id\": onto.treatmentId,\n",
    "            \"name\": onto.treatmentName\n",
    "        },\n",
    "    },\n",
    "    merge=False,\n",
    "    skip=False\n",
    ")\n",
    "\n",
    "cp.parse_node_type(\n",
    "    node_type=\"SurgicalTreatment\",\n",
    "    source_filename=\"nodes.csv\",\n",
    "    fmt=\"csv\",\n",
    "    parse_config={\n",
    "        \"iri_column_name\": \"id\",\n",
    "        \"headers\": True,\n",
    "        \"filter_column\": \"kind\",\n",
    "        \"filter_value\": \"surgical\",\n",
    "        \"data_property_map\": {\n",
    "            \"id\": onto.treatmentId,\n",
    "            \"name\": onto.treatmentName\n",
    "        },\n",
    "    },\n",
    "    merge=False,\n",
    "    skip=False\n",
    ")\n",
    "\n",
    "cp.parse_node_type(\n",
    "    node_type=\"NutritionalTreatment\",\n",
    "    source_filename=\"nodes.csv\",\n",
    "    fmt=\"csv\",\n",
    "    parse_config={\n",
    "        \"iri_column_name\": \"id\",\n",
    "        \"headers\": True,\n",
    "        \"filter_column\": \"kind\",\n",
    "        \"filter_value\": \"nutritional\",\n",
    "        \"data_property_map\": {\n",
    "            \"id\": onto.treatmentId,\n",
    "            \"name\": onto.treatmentName\n",
    "        },\n",
    "    },\n",
    "    merge=False,\n",
    "    skip=False\n",
    ")\n",
    "\n",
    "cp.parse_node_type(\n",
    "    node_type=\"BehavioralTreatment\",\n",
    "    source_filename=\"nodes.csv\",\n",
    "    fmt=\"csv\",\n",
    "    parse_config={\n",
    "        \"iri_column_name\": \"id\",\n",
    "        \"headers\": True,\n",
    "        \"filter_column\": \"kind\",\n",
    "        \"filter_value\": \"behavioral\",\n",
    "        \"data_property_map\": {\n",
    "            \"id\": onto.treatmentId,\n",
    "            \"name\": onto.treatmentName\n",
    "        },\n",
    "    },\n",
    "    merge=False,\n",
    "    skip=False\n",
    ")\n",
    "\n",
    "cp.parse_node_type(\n",
    "    node_type=\"PhysicalTreatment\",\n",
    "    source_filename=\"nodes.csv\",\n",
    "    fmt=\"csv\",\n",
    "    parse_config={\n",
    "        \"iri_column_name\": \"id\",\n",
    "        \"headers\": True,\n",
    "        \"filter_column\": \"kind\",\n",
    "        \"filter_value\": \"physical\",\n",
    "        \"data_property_map\": {\n",
    "            \"id\": onto.treatmentId,\n",
    "            \"name\": onto.treatmentName\n",
    "        },\n",
    "    },\n",
    "    merge=False,\n",
    "    skip=False\n",
    ")"
   ]
  },
  {
   "cell_type": "code",
   "execution_count": 10,
   "metadata": {},
   "outputs": [
    {
     "name": "stdout",
     "output_type": "stream",
     "text": [
      "PARSING NODE TYPE: Disease\n",
      "FROM SOURCE DATABASE: omim_dataset\n"
     ]
    },
    {
     "name": "stderr",
     "output_type": "stream",
     "text": [
      "2439it [00:00, 12131.78it/s]\n"
     ]
    },
    {
     "name": "stdout",
     "output_type": "stream",
     "text": [
      "PARSING NODE TYPE: Symptom\n",
      "FROM SOURCE DATABASE: omim_dataset\n"
     ]
    },
    {
     "name": "stderr",
     "output_type": "stream",
     "text": [
      "47it [00:00, 10236.38it/s]\n"
     ]
    }
   ],
   "source": [
    "# NODE MAPPINGS\n",
    "\n",
    "omim.parse_node_type(\n",
    "    node_type=\"Disease\",\n",
    "    source_filename=\"disease_nodes.csv\",\n",
    "    fmt=\"csv\",\n",
    "    parse_config={\n",
    "        \"iri_column_name\": \"id\",\n",
    "        \"headers\": True,\n",
    "        # \"filter_column\": \"kind\",\n",
    "        # \"filter_value\": \"stimulation\",\n",
    "        \"data_property_map\": {\n",
    "            \"id\": onto.diseaseId,\n",
    "            \"name\": onto.diseaseName\n",
    "        },\n",
    "    },\n",
    "    merge=False,\n",
    "    skip=False\n",
    ")\n",
    "\n",
    "omim.parse_node_type(\n",
    "    node_type=\"Symptom\",\n",
    "    source_filename=\"symptom_nodes.csv\",\n",
    "    fmt=\"csv\",\n",
    "    parse_config={\n",
    "        \"iri_column_name\": \"id\",\n",
    "        \"headers\": True,\n",
    "        # \"filter_column\": \"kind\",\n",
    "        # \"filter_value\": \"stimulation\",\n",
    "        \"data_property_map\": {\n",
    "            \"id\": onto.symptomId,\n",
    "            \"name\": onto.symptomName\n",
    "        },\n",
    "    },\n",
    "    merge=False,\n",
    "    skip=False\n",
    ")"
   ]
  },
  {
   "cell_type": "code",
   "execution_count": null,
   "metadata": {},
   "outputs": [],
   "source": []
  }
 ],
 "metadata": {
  "kernelspec": {
   "display_name": "venv",
   "language": "python",
   "name": "python3"
  },
  "language_info": {
   "codemirror_mode": {
    "name": "ipython",
    "version": 3
   },
   "file_extension": ".py",
   "mimetype": "text/x-python",
   "name": "python",
   "nbconvert_exporter": "python",
   "pygments_lexer": "ipython3",
   "version": "3.11.9"
  }
 },
 "nbformat": 4,
 "nbformat_minor": 2
}
